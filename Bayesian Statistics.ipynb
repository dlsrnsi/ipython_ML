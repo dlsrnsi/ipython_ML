{
 "cells": [
  {
   "cell_type": "markdown",
   "metadata": {},
   "source": [
    "# Bayesian Statistic\n",
    "\n",
    "베이지안 정리는 정규 분포와 마찬가지로 통계학에서 가장 중요한 개념중 하나이다.\n",
    "\n",
    "베이즈 정리는 다음과 같다\n",
    "\n",
    "$p(H|E) = \\frac {p(E|H)p(H)} {p(E)}$\n",
    "\n",
    "여기서 $H$는 가설(Hypothesis)이며 $E$는 증거(Evidence)이다 경우에 따라서 $D$ (Data)라고 표현하기도 한다.\n",
    "\n",
    "베이즈 정리의 왼쪽항을 살펴보면 증거가 주어졌을때 가설이 맞을 확률이다. 즉 제시된 데이터를 바탕으로 가설의 신빙성을 파악할수 있다는 것이다.\n",
    "\n",
    "또한, 베이즈 정리의 오른쪽 항의 분모를 살펴보면\n",
    "\n",
    "$p(E) = \\sum_{i=1}^n p(E,H_i) = \\sum_{i=1}^n p(E|H_i)p(H_i)$\n",
    "\n",
    "즉 $p(E)$는 각각의 가설일때 $E$일 확률을 더한것과 마찬가지이다. \n",
    "\n",
    "이렇게 베이즈 정리이용하여 데이터가 주어졌을때 데이터의 파라미터(평균, 분산 등)을 추정할수 있다.\n",
    "\n",
    "이러한 추정을 베이지언 추정(Bayesian Estimation)이라고 부른다.\n",
    "\n",
    "베이지언 추정 $p(H|E)$는 오른쪽 식의 분자에 비례한다. 이를,\n",
    "\n",
    "$p(H|E) \\propto p(E|H)p(H)$ 라고 표현할 수 있다.\n",
    "\n",
    "또한 각각의 확률을 함수형태로 보았을 때,\n",
    "\n",
    "$posteriori \\propto likelihood-function \\cdot priori$ 라고 표현한다.\n",
    "\n",
    "$priori$ 는 데이터가 관측되기 이전에 가설의 분포에 대한 **가정**이다.\n",
    "\n",
    "$likelihood-function$은 주어진 가설하에 데이터가 분포할 확률이다.\n",
    "\n",
    "$posteriori$는 관련있다고 생각되는 데이터가 주어졌을 때, 가설의 분포이다. 즉 조건부 확률이다.\n",
    "\n",
    "따라서 우리의 목표는 $posterior$를 최대화하는(maximum a posteriori) 가설의 특정 값을 **추정**하는 것이다.\n",
    "\n",
    "베이즈 정리의 활용법은 [나이브 베이즈](http://www.iglee.net/study/28/)를 참조하길 바란다.(추후 업데이트 예정)"
   ]
  },
  {
   "cell_type": "markdown",
   "metadata": {},
   "source": [
    "## Maximum Likelihood\n",
    "\n",
    "그러나 데이터를 이용하여 바로 가설을 추정하는 것은 힘들어 보인다.\n",
    "\n",
    "$posteriori$는 오른쪽 항의 $likelihood-function$에 비례하므로 만약 가설이 균등하게(Uniformly) 분포한다면\n",
    "\n",
    "$posteirori \\propto likelihood-function$ 이다. 따라서 $likelihood-funtion$의 값이 최대화 될때를 찾아보자\n",
    "\n",
    "\n",
    "## Maximum Likelihood for Gaussian\n",
    "\n",
    "$likelihood-funtion$ 이 최대화 될 때는, 주어진 데이터 $X$에 대해 어떤 $\\theta$값에서 $p(X)$가 최대화 될때이다.\n",
    "\n",
    "따라서 $\\theta$ 값을 찾아보도록 하자.\n",
    "\n",
    "일변수 정규분포(Univariate Gaussian)은 분산이 1이고 평균이 $\\theta$일때, 다음과 같은 식을 따른다.\n",
    "\n",
    "$N(x|\\theta,1) = \\frac {1} {\\sqrt{2\\pi}^{1/2}} exp(-\\frac {1} {2}(x - \\theta)^2)$\n",
    "\n",
    "$N$개의 데이터가 존재할때 확률은 다음과 같이 변한다\n",
    "\n",
    "$N(x|\\theta,1) = \\frac {1} {\\sqrt{2\\pi}^{1/2}} \\prod^N_{i=1}exp(-\\frac {1} {2}(x_i - \\theta)^2)$\n",
    "\n",
    "$\\prod$를 exp안에 넣으면 $\\sum$으로 변한다. $N(x|\\theta,1) = \\frac {1} {\\sqrt{2\\pi}^{1/2}} exp(-\\frac {1} {2}\\sum^N_{i=1}(x_i - \\theta)^2)$\n",
    "\n",
    "양변에 자연로그를 취해서 $X$값을 최대화 시키는 $\\theta$값을 찾아보자. 로그를 취하더라도 최대값이 되는 지점은 변하지 않는다.\n",
    "\n",
    "$ln(N(X|\\theta)) = -\\frac {1} {2} \\sum^N_{i=1}(x_i - \\theta)^2$\n",
    "\n",
    "x_i에 대한 함수는 이차항이 -인 이차함수 이므로 미분하여 기울기가 0일때의 값이 최대값임을 확인할 수 있다.\n",
    "\n",
    "$\\frac {1} {\\delta\\theta} \\sum(x_i^2 - 2\\theta x_i + \\theta^2) = 0$이므로  $\\frac {1} {\\delta\\theta} \\sum(2x_i - 2\\theta)  = 0$이고\n",
    "\n",
    "$\\sum x_i = \\sum \\theta = N\\theta$ 이기 때문에 결론적으로 X를 최대화시키는 $\\theta$는\n",
    "\n",
    "$\\theta = \\frac {1} {N} \\sum x_i$ 임을 확인할 수 있다. 이는 표본평균과 동일하며 $\\bar {X}$로 표시하기도 한다."
   ]
  },
  {
   "cell_type": "code",
   "execution_count": 1,
   "metadata": {
    "collapsed": false,
    "scrolled": true
   },
   "outputs": [
    {
     "name": "stderr",
     "output_type": "stream",
     "text": [
      "c:\\python27\\lib\\site-packages\\IPython\\html.py:14: ShimWarning: The `IPython.html` package has been deprecated. You should import from `notebook` instead. `IPython.html.widgets` has moved to `ipywidgets`.\n",
      "  \"`IPython.html.widgets` has moved to `ipywidgets`.\", ShimWarning)\n"
     ]
    }
   ],
   "source": [
    "import numpy as np\n",
    "import matplotlib.pyplot as plt\n",
    "%matplotlib inline\n",
    "import seaborn"
   ]
  },
  {
   "cell_type": "markdown",
   "metadata": {},
   "source": [
    "평균이 $(0,0)$이고 분산이 $I$인 정규분포로 부터 데이터를 뽑아보자"
   ]
  },
  {
   "cell_type": "code",
   "execution_count": 2,
   "metadata": {
    "collapsed": true
   },
   "outputs": [],
   "source": [
    "I = np.identity(2, dtype=np.float32)\n",
    "np.random.seed(0)\n",
    "data1 = np.random.multivariate_normal([0,0],I, 50).T"
   ]
  },
  {
   "cell_type": "code",
   "execution_count": 9,
   "metadata": {
    "collapsed": false
   },
   "outputs": [],
   "source": [
    "mean = data1.sum(axis=1)\n",
    "mean = mean/50"
   ]
  },
  {
   "cell_type": "code",
   "execution_count": 14,
   "metadata": {
    "collapsed": false,
    "scrolled": true
   },
   "outputs": [
    {
     "data": {
      "image/png": "[encoded data removed]",
      "text/plain": [
       "<matplotlib.figure.Figure at 0x778d130>"
      ]
     },
     "metadata": {},
     "output_type": "display_data"
    }
   ],
   "source": [
    "plt.scatter(data1[0,:], data1[1,:], color='blue')\n",
    "plt.scatter(mean[0], mean[1], color='red', marker=u'^', s=80)\n",
    "plt.show()"
   ]
  },
  {
   "cell_type": "code",
   "execution_count": 11,
   "metadata": {
    "collapsed": false
   },
   "outputs": [
    {
     "name": "stdout",
     "output_type": "stream",
     "text": [
      "[ 0.01680616  0.10280987]\n"
     ]
    }
   ],
   "source": [
    "print mean"
   ]
  },
  {
   "cell_type": "markdown",
   "metadata": {},
   "source": [
    "평균값이 모평균 $(0,0)$과 일치하지는 않지만 매우 가깝다는 것을 확인할 수 있다"
   ]
  },
  {
   "cell_type": "code",
   "execution_count": null,
   "metadata": {
    "collapsed": true
   },
   "outputs": [],
   "source": []
  }
 ],
 "metadata": {
  "kernelspec": {
   "display_name": "Python 2",
   "language": "python",
   "name": "python2"
  },
  "language_info": {
   "codemirror_mode": {
    "name": "ipython",
    "version": 2
   },
   "file_extension": ".py",
   "mimetype": "text/x-python",
   "name": "python",
   "nbconvert_exporter": "python",
   "pygments_lexer": "ipython2",
   "version": "2.7.11"
  }
 },
 "nbformat": 4,
 "nbformat_minor": 0
}
