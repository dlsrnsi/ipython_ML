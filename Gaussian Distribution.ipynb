{
 "cells": [
  {
   "cell_type": "markdown",
   "metadata": {},
   "source": [
    "# Gaussian Distribution\n",
    "\n",
    "정규분포는 단연 통계에서 가장 중요한 분포이다.\n",
    "\n",
    "정규분포는 가우스(Johann Carl Friedrich Gauss)가 소행성 세레스를 찾을 때 발견했다.\n",
    "\n",
    "가우스는 관측할때 오차가 정규분포를 따른다고 생각하였고, 따라서 앞으로 우리가 다룰 여러 통계, 기계학습의 문제에 정규분포를 활용하게 되므로\n",
    "\n",
    "정규분포의 이론적 배경과 코드를 통한 실례를 보고자 한다.\n",
    "\n",
    "## Univariate Gaussian Distribution\n",
    "\n",
    "일변수 가우스 분포(Univariate Gaussian Distribution)는 다음과 같다.\n",
    "\n",
    "$N(x|\\mu,\\sigma^2) \\sim \\frac {1} {\\sqrt{2\\pi\\sigma^2}}exp(-\\frac{1}{2\\sigma^2}(x - \\mu)^2)$\n",
    "\n",
    "이때 $\\mu$는 평균(mean)이며 $\\sigma^2$는 분산(variance)이다. 따라서 $\\sigma$는 표준편차(standard deviation)이다\n",
    "\n",
    "## Multivariate Gaussian Distribution\n",
    "\n",
    "다변수 가우스 분포(Multivariate Gaussian Distribution)는 다음과 같다\n",
    "\n",
    "$N(x|\\mu,\\sum) \\sim \\frac {1}{\\sqrt{2\\pi}^{D/2}}\\frac{1}{|\\sum|^{1/2}}exp(-\\frac{1}{2}(x - \\mu)^T\\sum^{-1}(x - \\mu))$\n",
    "\n",
    "이때 $\\mu$는 평균(mean)이며  $\\sum$는 공분산행렬(covariance matrix)이며 $D \\times D$ 크기를 가진다\n",
    "\n",
    "$\\sum^{-1}$은 정확도(Accuracy)라고 불리우기도 하며 $\\Lambda$로 표기하기도 한다.\n",
    "\n",
    "## Affine Property and Affine Transformation\n",
    "\n",
    "공분산 행렬은 아주 중요한 특징을 가지고 있는데 바로 대칭행렬이라는 점이다. 공분산의 정의를 이해하면 쉽게 파악할수 있다.\n",
    "\n",
    "따라서 $\\sum u_i = \\lambda_iu_i$를 만드는 고유값(Eigen value) $\\lambda_i$와 고유 벡터(Eigen value) $u_i$가 존재한다.\n",
    "\n",
    "그리고 이 고유값과 고유벡터들을 기저로 직교공간(Othonormal basis system)을 생성할수 있다.\n",
    "\n",
    "따라서 공분산행렬은 $\\sum = \\sum^D_{i=1}\\lambda_iu_iu_i^T$로 표현될 수 있으며.\n",
    "\n",
    "공분산행렬의 역행렬은 $\\sum^{-1} = \\sum^D_{i=1}\\frac {1}{\\lambda_i}u_iu_i^T$로 표현될 수 있다.\n",
    "\n",
    "다변수 가우스분포를 잘 살펴보면 x값에 따른 분포는 $\\Delta^2 = (x - \\mu)^T\\sum^{-1}(x - \\mu)$ 에만 연관된다고 볼 수 있다.\n",
    "\n",
    "이를 위의 성질을 이용하여 다시 표현하면 $\\Delta^2 = \\frac {(x - \\mu)^TUU^T(x - \\mu)} {\\lambda^{1/2} \\lambda^{1/2}}$ 로 표기할 수 있다.\n",
    "\n",
    "이때 $U = \\{u_i\\}_{i=1}^D$ 고유벡터를 기저로 삼는 행렬이다. 따라서 $UU^T = I$이다.\n",
    "\n",
    "위의 $\\Delta^2$은 좌우 대칭이어서 분리될 수 있음을 확인할 수 있고, $x$에 영향을 끼치는 요소가 $U,\\lambda,\\mu$라는 것을 파악할 수 있다.\n",
    "\n",
    "따라서 특정값을 따르는 정규 분포 $X$에 $U,\\lambda,\\mu$를 곱하거나 더할 때  기하학적으로 어떻게 가우스 분포에 영향을 끼치는지 코드를 통하여 살펴볼 것이다.\n",
    "\n",
    "먼저 평균이 $(0,0)$이고 공분산이 $I$인 정규분포를 따르는 무작위 데이터 50개를 만든다. 이를 $X$라고 명명한다."
   ]
  },
  {
   "cell_type": "code",
   "execution_count": 1,
   "metadata": {
    "collapsed": false
   },
   "outputs": [
    {
     "name": "stderr",
     "output_type": "stream",
     "text": [
      "c:\\python27\\lib\\site-packages\\IPython\\html.py:14: ShimWarning: The `IPython.html` package has been deprecated. You should import from `notebook` instead. `IPython.html.widgets` has moved to `ipywidgets`.\n",
      "  \"`IPython.html.widgets` has moved to `ipywidgets`.\", ShimWarning)\n"
     ]
    }
   ],
   "source": [
    "import numpy as np\n",
    "import matplotlib.pyplot as plt\n",
    "%matplotlib inline\n",
    "import seaborn"
   ]
  },
  {
   "cell_type": "code",
   "execution_count": 2,
   "metadata": {
    "collapsed": true
   },
   "outputs": [],
   "source": [
    "I = np.identity(2, dtype=np.float32)"
   ]
  },
  {
   "cell_type": "code",
   "execution_count": 3,
   "metadata": {
    "collapsed": false
   },
   "outputs": [],
   "source": [
    "np.random.seed(0)\n",
    "data1 = np.random.multivariate_normal([0,0],I, 50).T"
   ]
  },
  {
   "cell_type": "code",
   "execution_count": 4,
   "metadata": {
    "collapsed": false
   },
   "outputs": [
    {
     "name": "stdout",
     "output_type": "stream",
     "text": [
      "Covariance :\n",
      "[[ 1.0818654  -0.03397485]\n",
      " [-0.03397485  0.98747635]]\n"
     ]
    },
    {
     "data": {
      "image/png": "[encoded data removed]",
      "text/plain": [
       "<matplotlib.figure.Figure at 0x7fd9230>"
      ]
     },
     "metadata": {},
     "output_type": "display_data"
    }
   ],
   "source": [
    "plt.scatter(data1[0,:], data1[1,:])\n",
    "plt.axis([-10,10,-10,10])\n",
    "print \"Covariance :\"\n",
    "print np.cov(data1)"
   ]
  },
  {
   "cell_type": "markdown",
   "metadata": {},
   "source": [
    "$X$에 $\\lambda^{1/2}$를 곱해보자.\n",
    "\n",
    "$\\lambda^{1/2}X \\sim N(X|0,\\lambda)$  를 따르게 된다."
   ]
  },
  {
   "cell_type": "code",
   "execution_count": 10,
   "metadata": {
    "collapsed": false
   },
   "outputs": [
    {
     "name": "stdout",
     "output_type": "stream",
     "text": [
      "Covariance :\n",
      "[[ 4.3274616  -0.20384912]\n",
      " [-0.20384912  8.88728719]]\n"
     ]
    },
    {
     "data": {
      "image/png": "[encoded data removed]",
      "text/plain": [
       "<matplotlib.figure.Figure at 0x7ff8a70>"
      ]
     },
     "metadata": {},
     "output_type": "display_data"
    }
   ],
   "source": [
    "l_mat = np.array([[2,0],[0,3]])\n",
    "data2 = l_mat.dot(data1)\n",
    "plt.scatter(data2[0,:], data2[1,:])\n",
    "plt.axis([-10,10,-10,10])\n",
    "print \"Covariance :\"\n",
    "print np.cov(data2)"
   ]
  },
  {
   "cell_type": "markdown",
   "metadata": {},
   "source": [
    "공분산이 각각 $\\lambda$만큼 변한 것을 확인할 수 있다. 이를 Scaling이라고 한다.\n",
    "\n",
    "이제 $U$를 곱해보자. $U$를 곱하면 분포의 고유벡터가 바뀌어 회전하게 된다.\n",
    "\n",
    "$U\\lambda^{1/2}X \\sim N(X|0,\\sum)$  를 따르게 된다."
   ]
  },
  {
   "cell_type": "code",
   "execution_count": 15,
   "metadata": {
    "collapsed": false
   },
   "outputs": [
    {
     "name": "stdout",
     "output_type": "stream",
     "text": [
      "U : \n",
      "[[ 0.96 -0.28]\n",
      " [ 0.28  0.96]]\n",
      "U^TU\n",
      "[[ 1.  0.]\n",
      " [ 0.  1.]]\n",
      "mean : \n",
      "[-0.05409246  0.30550387]\n"
     ]
    },
    {
     "data": {
      "text/plain": [
       "[-10, 10, -10, 10]"
      ]
     },
     "execution_count": 15,
     "metadata": {},
     "output_type": "execute_result"
    },
    {
     "data": {
      "image/png": "[encoded data removed]",
      "text/plain": [
       "<matplotlib.figure.Figure at 0x936f110>"
      ]
     },
     "metadata": {},
     "output_type": "display_data"
    }
   ],
   "source": [
    "U = np.array([[0.96,-0.28],[0.28,0.96]])\n",
    "print \"U : \"\n",
    "print U\n",
    "print \"U^TU\"\n",
    "print U.dot(U.T)\n",
    "data3 = U.dot(data2)\n",
    "zeros = np.zeros((2))\n",
    "print \"mean : \"\n",
    "print data3.mean(axis=1)\n",
    "plt.scatter(data3[0,:], data3[1,:])\n",
    "y1 = np.hstack((zeros[:,np.newaxis],U[:,0][:,np.newaxis]))\n",
    "y2 = np.hstack((zeros[:,np.newaxis],U[:,1][:,np.newaxis]))\n",
    "plt.plot(y1[0,:]*2,y1[1,:]*3, color='red')\n",
    "plt.plot(y2[0,:]*3,y2[1,:]*2, color='red')\n",
    "plt.axis([-10,10,-10,10])"
   ]
  },
  {
   "cell_type": "markdown",
   "metadata": {},
   "source": [
    "분포가 $16.26^{\\circ}$도 회전하였고, 고유벡터가 바뀐것을 확인할수 있다. 이를 Rotation이라고 한다.\n",
    "\n",
    "이제 $\\mu$를 더하여 평균값을 바꾸어 보자. \n",
    "\n",
    "$U\\lambda^{1/2}X + \\mu \\sim N(X|\\mu,\\sum)$ 를 따르게 된다."
   ]
  },
  {
   "cell_type": "code",
   "execution_count": 7,
   "metadata": {
    "collapsed": false
   },
   "outputs": [
    {
     "name": "stdout",
     "output_type": "stream",
     "text": [
      "mean :\n",
      "[ 1.94590754  2.30550387]\n"
     ]
    },
    {
     "data": {
      "text/plain": [
       "[-10, 10, -10, 10]"
      ]
     },
     "execution_count": 7,
     "metadata": {},
     "output_type": "execute_result"
    },
    {
     "data": {
      "image/png": "[encoded data removed]",
      "text/plain": [
       "<matplotlib.figure.Figure at 0x7ff8e50>"
      ]
     },
     "metadata": {},
     "output_type": "display_data"
    }
   ],
   "source": [
    "u = np.array([[2],[2]])\n",
    "data4 = data3 + u\n",
    "print \"mean :\"\n",
    "print data4.mean(axis=1)\n",
    "plt.scatter(data4[0,:], data4[1,:])\n",
    "plt.axis([-10,10,-10,10])"
   ]
  },
  {
   "cell_type": "markdown",
   "metadata": {},
   "source": [
    "평균값이 $(2,2)$만큼 옮겨 져서 분포가 전체적으로 옮겨진것을 확인할 수 있다. 이를 Shift라고 한다\n",
    "\n",
    "이러한 방법으로 특정한 평균과 공분산을 가진 다변수정규분포를 쉽게 만들어 낼수 있다.\n",
    "\n",
    "그리고 이러한 성질을 Affine Property라고 부른다. 이렇게 변화시키는 것을 Affine transformation이라고 부른다.\n",
    "\n",
    "반대로 특정한 평균과 공분산을 가진 다변수정규분포로부터 정규화된(평균이 영행렬, 공분산이 단위행렬) 다변수정규분포를 만들어낼 수 있다."
   ]
  },
  {
   "cell_type": "code",
   "execution_count": null,
   "metadata": {
    "collapsed": true
   },
   "outputs": [],
   "source": []
  }
 ],
 "metadata": {
  "kernelspec": {
   "display_name": "Python 2",
   "language": "python",
   "name": "python2"
  },
  "language_info": {
   "codemirror_mode": {
    "name": "ipython",
    "version": 2
   },
   "file_extension": ".py",
   "mimetype": "text/x-python",
   "name": "python",
   "nbconvert_exporter": "python",
   "pygments_lexer": "ipython2",
   "version": "2.7.11"
  }
 },
 "nbformat": 4,
 "nbformat_minor": 0
}
